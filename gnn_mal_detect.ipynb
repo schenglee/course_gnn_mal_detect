{
 "cells": [
  {
   "cell_type": "markdown",
   "metadata": {
    "toc": true
   },
   "source": [
    "<h1>Table of Contents<span class=\"tocSkip\"></span></h1>\n",
    "<div class=\"toc\"><ul class=\"toc-item\"><li><span><a href=\"#Import-packages\" data-toc-modified-id=\"Import-packages-1\"><span class=\"toc-item-num\">1&nbsp;&nbsp;</span>Import packages</a></span></li><li><span><a href=\"#Load-the-data\" data-toc-modified-id=\"Load-the-data-2\"><span class=\"toc-item-num\">2&nbsp;&nbsp;</span>Load the data</a></span></li><li><span><a href=\"#Build-a-graph-data\" data-toc-modified-id=\"Build-a-graph-data-3\"><span class=\"toc-item-num\">3&nbsp;&nbsp;</span>Build a graph data</a></span></li><li><span><a href=\"#Define-the-GNN-model\" data-toc-modified-id=\"Define-the-GNN-model-4\"><span class=\"toc-item-num\">4&nbsp;&nbsp;</span>Define the GNN model</a></span></li><li><span><a href=\"#Model-training\" data-toc-modified-id=\"Model-training-5\"><span class=\"toc-item-num\">5&nbsp;&nbsp;</span>Model training</a></span></li><li><span><a href=\"#predict-results-for-unkown-nodes\" data-toc-modified-id=\"predict-results-for-unkown-nodes-6\"><span class=\"toc-item-num\">6&nbsp;&nbsp;</span>predict results for unkown nodes</a></span></li></ul></div>"
   ]
  },
  {
   "cell_type": "markdown",
   "metadata": {},
   "source": [
    "# Import packages "
   ]
  },
  {
   "cell_type": "code",
   "execution_count": 1,
   "metadata": {
    "ExecuteTime": {
     "end_time": "2021-11-09T07:11:33.076054Z",
     "start_time": "2021-11-09T07:11:31.136173Z"
    }
   },
   "outputs": [],
   "source": [
    "import os\n",
    "import pickle\n",
    "import numpy as np\n",
    "import pandas as pd\n",
    "from tqdm.notebook import tqdm\n",
    "\n",
    "import torch\n",
    "import torch_geometric\n",
    "import torch.nn.functional as F\n",
    "import torch.utils.data"
   ]
  },
  {
   "cell_type": "markdown",
   "metadata": {},
   "source": [
    "# Load the data"
   ]
  },
  {
   "cell_type": "code",
   "execution_count": 2,
   "metadata": {
    "ExecuteTime": {
     "end_time": "2021-11-09T07:11:33.090494Z",
     "start_time": "2021-11-09T07:11:33.088307Z"
    }
   },
   "outputs": [],
   "source": [
    "TRAINDATA_DIR = \"./TrainData/\""
   ]
  },
  {
   "cell_type": "code",
   "execution_count": 3,
   "metadata": {
    "ExecuteTime": {
     "end_time": "2021-11-09T07:11:33.104065Z",
     "start_time": "2021-11-09T07:11:33.100640Z"
    }
   },
   "outputs": [],
   "source": [
    "def get_user_data(user_idx):\n",
    "    train_data_path  = TRAINDATA_DIR+'WorkerData_{}.csv'.format(user_idx)\n",
    "    t_data = pd.read_csv(train_data_path)\n",
    "    # read edges data\n",
    "    train_edges_path = TRAINDATA_DIR+'WorkerDataEdges_{}.csv'.format(user_idx)\n",
    "    t_edges = pd.read_csv(train_edges_path)\n",
    "    return t_data,t_edges"
   ]
  },
  {
   "cell_type": "code",
   "execution_count": 4,
   "metadata": {
    "ExecuteTime": {
     "end_time": "2021-11-09T07:11:33.330468Z",
     "start_time": "2021-11-09T07:11:33.116085Z"
    }
   },
   "outputs": [],
   "source": [
    "data, edges = get_user_data(0)"
   ]
  },
  {
   "cell_type": "code",
   "execution_count": 5,
   "metadata": {
    "ExecuteTime": {
     "end_time": "2021-11-09T07:11:33.360450Z",
     "start_time": "2021-11-09T07:11:33.332563Z"
    }
   },
   "outputs": [
    {
     "data": {
      "text/html": [
       "<div>\n",
       "<style scoped>\n",
       "    .dataframe tbody tr th:only-of-type {\n",
       "        vertical-align: middle;\n",
       "    }\n",
       "\n",
       "    .dataframe tbody tr th {\n",
       "        vertical-align: top;\n",
       "    }\n",
       "\n",
       "    .dataframe thead th {\n",
       "        text-align: right;\n",
       "    }\n",
       "</style>\n",
       "<table border=\"1\" class=\"dataframe\">\n",
       "  <thead>\n",
       "    <tr style=\"text-align: right;\">\n",
       "      <th></th>\n",
       "      <th>txId</th>\n",
       "      <th>class</th>\n",
       "      <th>Local_feature_1</th>\n",
       "      <th>Local_feature_2</th>\n",
       "      <th>Local_feature_3</th>\n",
       "      <th>Local_feature_4</th>\n",
       "      <th>Local_feature_5</th>\n",
       "      <th>Local_feature_6</th>\n",
       "      <th>Local_feature_7</th>\n",
       "      <th>Local_feature_8</th>\n",
       "      <th>...</th>\n",
       "      <th>Aggregate_feature_63</th>\n",
       "      <th>Aggregate_feature_64</th>\n",
       "      <th>Aggregate_feature_65</th>\n",
       "      <th>Aggregate_feature_66</th>\n",
       "      <th>Aggregate_feature_67</th>\n",
       "      <th>Aggregate_feature_68</th>\n",
       "      <th>Aggregate_feature_69</th>\n",
       "      <th>Aggregate_feature_70</th>\n",
       "      <th>Aggregate_feature_71</th>\n",
       "      <th>Aggregate_feature_72</th>\n",
       "    </tr>\n",
       "  </thead>\n",
       "  <tbody>\n",
       "    <tr>\n",
       "      <th>0</th>\n",
       "      <td>0</td>\n",
       "      <td>0</td>\n",
       "      <td>-0.113002</td>\n",
       "      <td>-0.026215</td>\n",
       "      <td>NaN</td>\n",
       "      <td>1.135523</td>\n",
       "      <td>-1.201369</td>\n",
       "      <td>0.001483</td>\n",
       "      <td>0.830915</td>\n",
       "      <td>-0.080147</td>\n",
       "      <td>...</td>\n",
       "      <td>-0.003175</td>\n",
       "      <td>-0.004194</td>\n",
       "      <td>-0.02606</td>\n",
       "      <td>-0.176617</td>\n",
       "      <td>-0.120613</td>\n",
       "      <td>0.162968</td>\n",
       "      <td>1.063787</td>\n",
       "      <td>-0.170322</td>\n",
       "      <td>-0.093145</td>\n",
       "      <td>-0.216814</td>\n",
       "    </tr>\n",
       "    <tr>\n",
       "      <th>1</th>\n",
       "      <td>1</td>\n",
       "      <td>1</td>\n",
       "      <td>-0.113002</td>\n",
       "      <td>-0.026195</td>\n",
       "      <td>5.258644</td>\n",
       "      <td>1.135523</td>\n",
       "      <td>-1.201369</td>\n",
       "      <td>0.001483</td>\n",
       "      <td>1.320101</td>\n",
       "      <td>-0.080147</td>\n",
       "      <td>...</td>\n",
       "      <td>-0.003175</td>\n",
       "      <td>-0.004194</td>\n",
       "      <td>-0.02606</td>\n",
       "      <td>-0.176617</td>\n",
       "      <td>-0.120613</td>\n",
       "      <td>0.130886</td>\n",
       "      <td>1.063787</td>\n",
       "      <td>-0.188369</td>\n",
       "      <td>-0.093145</td>\n",
       "      <td>-0.193143</td>\n",
       "    </tr>\n",
       "    <tr>\n",
       "      <th>2</th>\n",
       "      <td>2</td>\n",
       "      <td>2</td>\n",
       "      <td>-0.113002</td>\n",
       "      <td>NaN</td>\n",
       "      <td>-0.139726</td>\n",
       "      <td>NaN</td>\n",
       "      <td>1.018602</td>\n",
       "      <td>0.001483</td>\n",
       "      <td>-0.261220</td>\n",
       "      <td>-0.080147</td>\n",
       "      <td>...</td>\n",
       "      <td>-0.003175</td>\n",
       "      <td>-0.004194</td>\n",
       "      <td>-0.02606</td>\n",
       "      <td>-0.176617</td>\n",
       "      <td>-0.120613</td>\n",
       "      <td>0.130491</td>\n",
       "      <td>-0.048171</td>\n",
       "      <td>-0.188716</td>\n",
       "      <td>-0.093145</td>\n",
       "      <td>-0.193143</td>\n",
       "    </tr>\n",
       "    <tr>\n",
       "      <th>3</th>\n",
       "      <td>3</td>\n",
       "      <td>1</td>\n",
       "      <td>-0.113002</td>\n",
       "      <td>-0.026203</td>\n",
       "      <td>1.154065</td>\n",
       "      <td>-1.084907</td>\n",
       "      <td>1.018602</td>\n",
       "      <td>0.001483</td>\n",
       "      <td>4.410493</td>\n",
       "      <td>-0.080147</td>\n",
       "      <td>...</td>\n",
       "      <td>-0.003175</td>\n",
       "      <td>-0.004194</td>\n",
       "      <td>-0.02606</td>\n",
       "      <td>-0.176617</td>\n",
       "      <td>-0.120613</td>\n",
       "      <td>NaN</td>\n",
       "      <td>-1.160129</td>\n",
       "      <td>-0.183770</td>\n",
       "      <td>-0.093145</td>\n",
       "      <td>-0.216814</td>\n",
       "    </tr>\n",
       "    <tr>\n",
       "      <th>4</th>\n",
       "      <td>4</td>\n",
       "      <td>1</td>\n",
       "      <td>-0.113002</td>\n",
       "      <td>NaN</td>\n",
       "      <td>8.645669</td>\n",
       "      <td>0.292393</td>\n",
       "      <td>1.018602</td>\n",
       "      <td>0.001483</td>\n",
       "      <td>2.276280</td>\n",
       "      <td>-0.080147</td>\n",
       "      <td>...</td>\n",
       "      <td>-0.003175</td>\n",
       "      <td>-0.004194</td>\n",
       "      <td>-0.02606</td>\n",
       "      <td>-0.176617</td>\n",
       "      <td>0.079617</td>\n",
       "      <td>NaN</td>\n",
       "      <td>0.726534</td>\n",
       "      <td>0.599062</td>\n",
       "      <td>-0.076243</td>\n",
       "      <td>-0.216814</td>\n",
       "    </tr>\n",
       "  </tbody>\n",
       "</table>\n",
       "<p>5 rows × 167 columns</p>\n",
       "</div>"
      ],
      "text/plain": [
       "   txId  class  Local_feature_1  Local_feature_2  Local_feature_3  \\\n",
       "0     0      0        -0.113002        -0.026215              NaN   \n",
       "1     1      1        -0.113002        -0.026195         5.258644   \n",
       "2     2      2        -0.113002              NaN        -0.139726   \n",
       "3     3      1        -0.113002        -0.026203         1.154065   \n",
       "4     4      1        -0.113002              NaN         8.645669   \n",
       "\n",
       "   Local_feature_4  Local_feature_5  Local_feature_6  Local_feature_7  \\\n",
       "0         1.135523        -1.201369         0.001483         0.830915   \n",
       "1         1.135523        -1.201369         0.001483         1.320101   \n",
       "2              NaN         1.018602         0.001483        -0.261220   \n",
       "3        -1.084907         1.018602         0.001483         4.410493   \n",
       "4         0.292393         1.018602         0.001483         2.276280   \n",
       "\n",
       "   Local_feature_8  ...  Aggregate_feature_63  Aggregate_feature_64  \\\n",
       "0        -0.080147  ...             -0.003175             -0.004194   \n",
       "1        -0.080147  ...             -0.003175             -0.004194   \n",
       "2        -0.080147  ...             -0.003175             -0.004194   \n",
       "3        -0.080147  ...             -0.003175             -0.004194   \n",
       "4        -0.080147  ...             -0.003175             -0.004194   \n",
       "\n",
       "   Aggregate_feature_65  Aggregate_feature_66  Aggregate_feature_67  \\\n",
       "0              -0.02606             -0.176617             -0.120613   \n",
       "1              -0.02606             -0.176617             -0.120613   \n",
       "2              -0.02606             -0.176617             -0.120613   \n",
       "3              -0.02606             -0.176617             -0.120613   \n",
       "4              -0.02606             -0.176617              0.079617   \n",
       "\n",
       "   Aggregate_feature_68  Aggregate_feature_69  Aggregate_feature_70  \\\n",
       "0              0.162968              1.063787             -0.170322   \n",
       "1              0.130886              1.063787             -0.188369   \n",
       "2              0.130491             -0.048171             -0.188716   \n",
       "3                   NaN             -1.160129             -0.183770   \n",
       "4                   NaN              0.726534              0.599062   \n",
       "\n",
       "   Aggregate_feature_71  Aggregate_feature_72  \n",
       "0             -0.093145             -0.216814  \n",
       "1             -0.093145             -0.193143  \n",
       "2             -0.093145             -0.193143  \n",
       "3             -0.093145             -0.216814  \n",
       "4             -0.076243             -0.216814  \n",
       "\n",
       "[5 rows x 167 columns]"
      ]
     },
     "execution_count": 5,
     "metadata": {},
     "output_type": "execute_result"
    }
   ],
   "source": [
    "data.head(5)"
   ]
  },
  {
   "cell_type": "code",
   "execution_count": 6,
   "metadata": {
    "ExecuteTime": {
     "end_time": "2021-11-09T07:11:34.487536Z",
     "start_time": "2021-11-09T07:11:34.476043Z"
    }
   },
   "outputs": [
    {
     "data": {
      "text/plain": [
       "2    3101\n",
       "1     845\n",
       "0     329\n",
       "Name: class, dtype: int64"
      ]
     },
     "execution_count": 6,
     "metadata": {},
     "output_type": "execute_result"
    }
   ],
   "source": [
    "data['class'].value_counts() # 2 for unknown, 1 for benign, 2 for malicous"
   ]
  },
  {
   "cell_type": "markdown",
   "metadata": {},
   "source": [
    "# Build a graph data"
   ]
  },
  {
   "cell_type": "code",
   "execution_count": 7,
   "metadata": {
    "ExecuteTime": {
     "end_time": "2021-11-09T07:11:35.015247Z",
     "start_time": "2021-11-09T07:11:34.949616Z"
    }
   },
   "outputs": [],
   "source": [
    "data = data.fillna(data.mean())\n",
    "# get edge index from edges\n",
    "pyg_data = {}\n",
    "pyg_data['edge_index'] = torch.LongTensor(edges.to_numpy()).t().contiguous()\n",
    "pyg_data['x'] = torch.tensor(data.iloc[:, 2:].to_numpy(), dtype=torch.float)\n",
    "y = torch.LongTensor(data.iloc[:, 1].to_numpy())\n",
    "pyg_data['y'] = y\n",
    "# 0 for illicit, 1 for licit, 2 for unknown, 3 for to be predicted.\n",
    "pyg_data['train_mask'] = (y!=2)\n",
    "pyg_data['test_mask'] = (y==2)\n",
    "pyg_data['num_classes'] = 2\n",
    "pyg_data['num_node_features'] = pyg_data['x'].size(1)\n",
    "\n",
    "graph_data = torch_geometric.data.Data.from_dict(pyg_data)"
   ]
  },
  {
   "cell_type": "code",
   "execution_count": 8,
   "metadata": {
    "ExecuteTime": {
     "end_time": "2021-11-09T07:11:35.641829Z",
     "start_time": "2021-11-09T07:11:35.637822Z"
    }
   },
   "outputs": [
    {
     "data": {
      "text/plain": [
       "Data(x=[4275, 165], edge_index=[2, 4541], y=[4275], train_mask=[4275], test_mask=[4275], num_classes=2, num_node_features=165)"
      ]
     },
     "execution_count": 8,
     "metadata": {},
     "output_type": "execute_result"
    }
   ],
   "source": [
    "graph_data"
   ]
  },
  {
   "cell_type": "markdown",
   "metadata": {},
   "source": [
    "# Define the GNN model"
   ]
  },
  {
   "cell_type": "code",
   "execution_count": 9,
   "metadata": {
    "ExecuteTime": {
     "end_time": "2021-11-09T07:11:36.773481Z",
     "start_time": "2021-11-09T07:11:36.613839Z"
    }
   },
   "outputs": [],
   "source": [
    "from torch_geometric.nn import GCNConv\n",
    "\n",
    "class GCN(torch.nn.Module):\n",
    "    def __init__(self):\n",
    "        super().__init__()\n",
    "        self.conv1 = GCNConv(graph_data.num_node_features, 200)\n",
    "        self.conv2 = GCNConv(200, graph_data.num_classes)\n",
    "\n",
    "    def forward(self, data):\n",
    "        x, edge_index = data.x, data.edge_index\n",
    "\n",
    "        x = self.conv1(x, edge_index)\n",
    "        x = F.relu(x)\n",
    "        x = F.dropout(x, training=self.training)\n",
    "        x = self.conv2(x, edge_index)\n",
    "\n",
    "        return F.log_softmax(x, dim=1)"
   ]
  },
  {
   "cell_type": "markdown",
   "metadata": {},
   "source": [
    "# Model training"
   ]
  },
  {
   "cell_type": "code",
   "execution_count": 10,
   "metadata": {
    "ExecuteTime": {
     "end_time": "2021-11-09T07:11:48.747372Z",
     "start_time": "2021-11-09T07:11:37.964249Z"
    }
   },
   "outputs": [
    {
     "data": {
      "application/vnd.jupyter.widget-view+json": {
       "model_id": "f7def1da75f146c196e0b2d9eaf7cd6e",
       "version_major": 2,
       "version_minor": 0
      },
      "text/plain": [
       "HBox(children=(FloatProgress(value=0.0, max=200.0), HTML(value='')))"
      ]
     },
     "metadata": {},
     "output_type": "display_data"
    },
    {
     "name": "stdout",
     "output_type": "stream",
     "text": [
      "\n"
     ]
    }
   ],
   "source": [
    "device = torch.device('cuda' if torch.cuda.is_available() else 'cpu')\n",
    "model = GCN().to(device)\n",
    "graph_data = graph_data.to(device)\n",
    "optimizer = torch.optim.Adam(model.parameters(), lr=0.01, weight_decay=5e-4)\n",
    "\n",
    "model.train()\n",
    "for epoch in tqdm(range(200)):\n",
    "    optimizer.zero_grad()\n",
    "    out = model(graph_data)\n",
    "    loss = F.nll_loss(out[graph_data.train_mask], graph_data.y[graph_data.train_mask])\n",
    "    loss.backward()\n",
    "    optimizer.step()"
   ]
  },
  {
   "cell_type": "markdown",
   "metadata": {},
   "source": [
    "# predict results for unkown nodes"
   ]
  },
  {
   "cell_type": "code",
   "execution_count": 74,
   "metadata": {
    "ExecuteTime": {
     "end_time": "2021-11-09T07:05:16.323130Z",
     "start_time": "2021-11-09T07:05:16.293069Z"
    }
   },
   "outputs": [],
   "source": [
    "model.eval()\n",
    "pred = model(graph_data).argmax(dim=1)"
   ]
  },
  {
   "cell_type": "code",
   "execution_count": 75,
   "metadata": {
    "ExecuteTime": {
     "end_time": "2021-11-09T07:05:17.203072Z",
     "start_time": "2021-11-09T07:05:17.199144Z"
    }
   },
   "outputs": [
    {
     "data": {
      "text/plain": [
       "0.3939181286549708"
      ]
     },
     "execution_count": 75,
     "metadata": {},
     "output_type": "execute_result"
    }
   ],
   "source": [
    "1 - pred[graph_data.test_mask].sum().item()/len(graph_data.test_mask)"
   ]
  },
  {
   "cell_type": "code",
   "execution_count": null,
   "metadata": {},
   "outputs": [],
   "source": []
  }
 ],
 "metadata": {
  "kernelspec": {
   "display_name": "Python 3",
   "language": "python",
   "name": "python3"
  },
  "language_info": {
   "codemirror_mode": {
    "name": "ipython",
    "version": 3
   },
   "file_extension": ".py",
   "mimetype": "text/x-python",
   "name": "python",
   "nbconvert_exporter": "python",
   "pygments_lexer": "ipython3",
   "version": "3.8.3"
  },
  "latex_envs": {
   "LaTeX_envs_menu_present": true,
   "autoclose": false,
   "autocomplete": true,
   "bibliofile": "biblio.bib",
   "cite_by": "apalike",
   "current_citInitial": 1,
   "eqLabelWithNumbers": true,
   "eqNumInitial": 1,
   "hotkeys": {
    "equation": "Ctrl-E",
    "itemize": "Ctrl-I"
   },
   "labels_anchors": false,
   "latex_user_defs": false,
   "report_style_numbering": false,
   "user_envs_cfg": false
  },
  "toc": {
   "base_numbering": 1,
   "nav_menu": {},
   "number_sections": true,
   "sideBar": true,
   "skip_h1_title": false,
   "title_cell": "Table of Contents",
   "title_sidebar": "Contents",
   "toc_cell": true,
   "toc_position": {},
   "toc_section_display": true,
   "toc_window_display": true
  },
  "varInspector": {
   "cols": {
    "lenName": 16,
    "lenType": 16,
    "lenVar": 40
   },
   "kernels_config": {
    "python": {
     "delete_cmd_postfix": "",
     "delete_cmd_prefix": "del ",
     "library": "var_list.py",
     "varRefreshCmd": "print(var_dic_list())"
    },
    "r": {
     "delete_cmd_postfix": ") ",
     "delete_cmd_prefix": "rm(",
     "library": "var_list.r",
     "varRefreshCmd": "cat(var_dic_list()) "
    }
   },
   "types_to_exclude": [
    "module",
    "function",
    "builtin_function_or_method",
    "instance",
    "_Feature"
   ],
   "window_display": false
  }
 },
 "nbformat": 4,
 "nbformat_minor": 4
}
